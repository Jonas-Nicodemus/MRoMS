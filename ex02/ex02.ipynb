{
 "cells": [
  {
   "cell_type": "code",
   "execution_count": 0,
   "metadata": {
    "collapsed": true
   },
   "outputs": [],
   "source": [
    "import re\n",
    "import os\n",
    "\n",
    "import numpy as np\n",
    "import matplotlib.pyplot as plt\n",
    "from scipy.sparse import csr_matrix, csc_matrix, eye\n"
   ]
  },
  {
   "cell_type": "markdown",
   "source": [
    "# Exercise 3: Sparse Matrices, Static and Transient Problem of Governor\n",
    "\n",
    "a) The mass and stiffness matrices were exported from Ansys in the Harwell-Boeing format for sparse matrices. Write a function to import the matrices located in the files M_L.txt and K_L.txt."
   ],
   "metadata": {
    "collapsed": false
   }
  },
  {
   "cell_type": "code",
   "execution_count": 2,
   "outputs": [
    {
     "ename": "ValueError",
     "evalue": "Only files without right hand side supported for now.",
     "output_type": "error",
     "traceback": [
      "\u001B[0;31m---------------------------------------------------------------------------\u001B[0m",
      "\u001B[0;31mValueError\u001B[0m                                Traceback (most recent call last)",
      "\u001B[0;32m<ipython-input-2-19632573a40e>\u001B[0m in \u001B[0;36m<module>\u001B[0;34m\u001B[0m\n\u001B[1;32m      2\u001B[0m \u001B[0;32mfrom\u001B[0m \u001B[0mscipy\u001B[0m\u001B[0;34m.\u001B[0m\u001B[0msparse\u001B[0m \u001B[0;32mimport\u001B[0m \u001B[0mcsr_matrix\u001B[0m\u001B[0;34m,\u001B[0m \u001B[0meye\u001B[0m\u001B[0;34m\u001B[0m\u001B[0;34m\u001B[0m\u001B[0m\n\u001B[1;32m      3\u001B[0m \u001B[0mdata\u001B[0m \u001B[0;34m=\u001B[0m \u001B[0mcsr_matrix\u001B[0m\u001B[0;34m(\u001B[0m\u001B[0meye\u001B[0m\u001B[0;34m(\u001B[0m\u001B[0;36m3\u001B[0m\u001B[0;34m)\u001B[0m\u001B[0;34m)\u001B[0m  \u001B[0;31m# create a sparse matrix\u001B[0m\u001B[0;34m\u001B[0m\u001B[0;34m\u001B[0m\u001B[0m\n\u001B[0;32m----> 4\u001B[0;31m \u001B[0mprint\u001B[0m\u001B[0;34m(\u001B[0m\u001B[0mhb_read\u001B[0m\u001B[0;34m(\u001B[0m\u001B[0;34m\"resources/K_L.txt\"\u001B[0m\u001B[0;34m)\u001B[0m\u001B[0;34m)\u001B[0m  \u001B[0;31m# read a hb file\u001B[0m\u001B[0;34m\u001B[0m\u001B[0;34m\u001B[0m\u001B[0m\n\u001B[0m",
      "\u001B[0;32m/usr/local/anaconda3/envs/MRoMS/lib/python3.8/site-packages/scipy/io/harwell_boeing/hb.py\u001B[0m in \u001B[0;36mhb_read\u001B[0;34m(path_or_open_file)\u001B[0m\n\u001B[1;32m    513\u001B[0m     \u001B[0;32melse\u001B[0m\u001B[0;34m:\u001B[0m\u001B[0;34m\u001B[0m\u001B[0;34m\u001B[0m\u001B[0m\n\u001B[1;32m    514\u001B[0m         \u001B[0;32mwith\u001B[0m \u001B[0mopen\u001B[0m\u001B[0;34m(\u001B[0m\u001B[0mpath_or_open_file\u001B[0m\u001B[0;34m)\u001B[0m \u001B[0;32mas\u001B[0m \u001B[0mf\u001B[0m\u001B[0;34m:\u001B[0m\u001B[0;34m\u001B[0m\u001B[0;34m\u001B[0m\u001B[0m\n\u001B[0;32m--> 515\u001B[0;31m             \u001B[0;32mreturn\u001B[0m \u001B[0m_get_matrix\u001B[0m\u001B[0;34m(\u001B[0m\u001B[0mf\u001B[0m\u001B[0;34m)\u001B[0m\u001B[0;34m\u001B[0m\u001B[0;34m\u001B[0m\u001B[0m\n\u001B[0m\u001B[1;32m    516\u001B[0m \u001B[0;34m\u001B[0m\u001B[0m\n\u001B[1;32m    517\u001B[0m \u001B[0;34m\u001B[0m\u001B[0m\n",
      "\u001B[0;32m/usr/local/anaconda3/envs/MRoMS/lib/python3.8/site-packages/scipy/io/harwell_boeing/hb.py\u001B[0m in \u001B[0;36m_get_matrix\u001B[0;34m(fid)\u001B[0m\n\u001B[1;32m    506\u001B[0m     \"\"\"\n\u001B[1;32m    507\u001B[0m     \u001B[0;32mdef\u001B[0m \u001B[0m_get_matrix\u001B[0m\u001B[0;34m(\u001B[0m\u001B[0mfid\u001B[0m\u001B[0;34m)\u001B[0m\u001B[0;34m:\u001B[0m\u001B[0;34m\u001B[0m\u001B[0;34m\u001B[0m\u001B[0m\n\u001B[0;32m--> 508\u001B[0;31m         \u001B[0mhb\u001B[0m \u001B[0;34m=\u001B[0m \u001B[0mHBFile\u001B[0m\u001B[0;34m(\u001B[0m\u001B[0mfid\u001B[0m\u001B[0;34m)\u001B[0m\u001B[0;34m\u001B[0m\u001B[0;34m\u001B[0m\u001B[0m\n\u001B[0m\u001B[1;32m    509\u001B[0m         \u001B[0;32mreturn\u001B[0m \u001B[0mhb\u001B[0m\u001B[0;34m.\u001B[0m\u001B[0mread_matrix\u001B[0m\u001B[0;34m(\u001B[0m\u001B[0;34m)\u001B[0m\u001B[0;34m\u001B[0m\u001B[0;34m\u001B[0m\u001B[0m\n\u001B[1;32m    510\u001B[0m \u001B[0;34m\u001B[0m\u001B[0m\n",
      "\u001B[0;32m/usr/local/anaconda3/envs/MRoMS/lib/python3.8/site-packages/scipy/io/harwell_boeing/hb.py\u001B[0m in \u001B[0;36m__init__\u001B[0;34m(self, file, hb_info)\u001B[0m\n\u001B[1;32m    435\u001B[0m         \u001B[0mself\u001B[0m\u001B[0;34m.\u001B[0m\u001B[0m_fid\u001B[0m \u001B[0;34m=\u001B[0m \u001B[0mfile\u001B[0m\u001B[0;34m\u001B[0m\u001B[0;34m\u001B[0m\u001B[0m\n\u001B[1;32m    436\u001B[0m         \u001B[0;32mif\u001B[0m \u001B[0mhb_info\u001B[0m \u001B[0;32mis\u001B[0m \u001B[0;32mNone\u001B[0m\u001B[0;34m:\u001B[0m\u001B[0;34m\u001B[0m\u001B[0;34m\u001B[0m\u001B[0m\n\u001B[0;32m--> 437\u001B[0;31m             \u001B[0mself\u001B[0m\u001B[0;34m.\u001B[0m\u001B[0m_hb_info\u001B[0m \u001B[0;34m=\u001B[0m \u001B[0mHBInfo\u001B[0m\u001B[0;34m.\u001B[0m\u001B[0mfrom_file\u001B[0m\u001B[0;34m(\u001B[0m\u001B[0mfile\u001B[0m\u001B[0;34m)\u001B[0m\u001B[0;34m\u001B[0m\u001B[0;34m\u001B[0m\u001B[0m\n\u001B[0m\u001B[1;32m    438\u001B[0m         \u001B[0;32melse\u001B[0m\u001B[0;34m:\u001B[0m\u001B[0;34m\u001B[0m\u001B[0;34m\u001B[0m\u001B[0m\n\u001B[1;32m    439\u001B[0m             \u001B[0;31m#raise IOError(\"file %s is not writable, and hb_info \"\u001B[0m\u001B[0;34m\u001B[0m\u001B[0;34m\u001B[0m\u001B[0;34m\u001B[0m\u001B[0m\n",
      "\u001B[0;32m/usr/local/anaconda3/envs/MRoMS/lib/python3.8/site-packages/scipy/io/harwell_boeing/hb.py\u001B[0m in \u001B[0;36mfrom_file\u001B[0;34m(cls, fid)\u001B[0m\n\u001B[1;32m    160\u001B[0m             \u001B[0mrhs_nlines\u001B[0m \u001B[0;34m=\u001B[0m \u001B[0m_expect_int\u001B[0m\u001B[0;34m(\u001B[0m\u001B[0mrhs_nlines\u001B[0m\u001B[0;34m)\u001B[0m\u001B[0;34m\u001B[0m\u001B[0;34m\u001B[0m\u001B[0m\n\u001B[1;32m    161\u001B[0m         \u001B[0;32mif\u001B[0m \u001B[0;32mnot\u001B[0m \u001B[0mrhs_nlines\u001B[0m \u001B[0;34m==\u001B[0m \u001B[0;36m0\u001B[0m\u001B[0;34m:\u001B[0m\u001B[0;34m\u001B[0m\u001B[0;34m\u001B[0m\u001B[0m\n\u001B[0;32m--> 162\u001B[0;31m             raise ValueError(\"Only files without right hand side supported for \"\n\u001B[0m\u001B[1;32m    163\u001B[0m                              \"now.\")\n\u001B[1;32m    164\u001B[0m \u001B[0;34m\u001B[0m\u001B[0m\n",
      "\u001B[0;31mValueError\u001B[0m: Only files without right hand side supported for now."
     ]
    }
   ],
   "source": [
    "def conv(value):\n",
    "    try:\n",
    "        return float(value)\n",
    "    except ValueError:\n",
    "        return float(re.sub(r\"D\", 'E', str(value, 'utf-8')))\n",
    "\n",
    "def read_hb(file_path, skiprows=6):\n",
    "    return np.loadtxt(file_path, skiprows=skiprows, converters={0: conv})"
   ],
   "metadata": {
    "collapsed": false,
    "pycharm": {
     "name": "#%%\n"
    }
   }
  },
  {
   "cell_type": "markdown",
   "source": [
    "Execute function ```read_hb```."
   ],
   "metadata": {
    "collapsed": false,
    "pycharm": {
     "name": "#%% md\n"
    }
   }
  },
  {
   "cell_type": "code",
   "execution_count": null,
   "outputs": [],
   "source": [
    "resources_path = os.path.join('resources')\n",
    "K_L_path = os.path.join(resources_path, 'K_L.txt')\n",
    "M_L_path = os.path.join(resources_path, 'M_L.txt')\n",
    "\n",
    "K_txt = read_hb(K_L_path)\n",
    "M_txt = read_hb(M_L_path)"
   ],
   "metadata": {
    "collapsed": false,
    "pycharm": {
     "name": "#%%\n"
    }
   }
  },
  {
   "cell_type": "markdown",
   "source": [
    "Compare the results with the already imported matrices"
   ],
   "metadata": {
    "collapsed": false,
    "pycharm": {
     "name": "#%% md\n"
    }
   }
  },
  {
   "cell_type": "code",
   "execution_count": null,
   "outputs": [],
   "source": [
    "from pymatreader import read_mat\n",
    "\n",
    "def read_hb_from_mat(file_path, name):\n",
    "    mat_dic = read_mat(file_path)[name]\n",
    "    indptr = mat_dic['jc']\n",
    "    indices = mat_dic['ir']\n",
    "    data = mat_dic['data']\n",
    "    return csc_matrix((data, indices, indptr))"
   ],
   "metadata": {
    "collapsed": false,
    "pycharm": {
     "name": "#%%\n"
    }
   }
  },
  {
   "cell_type": "code",
   "execution_count": null,
   "outputs": [],
   "source": [
    "K_mat_path = os.path.join(resources_path, 'K.mat')\n",
    "M_mat_path = os.path.join(resources_path, 'M.mat')\n",
    "\n",
    "K_mat = read_hb_from_mat(K_mat_path, 'K')\n",
    "M_mat = read_hb_from_mat(M_mat_path, 'M')\n",
    "\n",
    "#TODO equality check"
   ],
   "metadata": {
    "collapsed": false,
    "pycharm": {
     "name": "#%%\n"
    }
   }
  },
  {
   "cell_type": "markdown",
   "source": [
    "Alternative use already implemented functions\n",
    "```\n",
    "scipy.io.hb_read\n",
    "scipy.io.hb_write\n",
    "```"
   ],
   "metadata": {
    "collapsed": false,
    "pycharm": {
     "name": "#%% md\n"
    }
   }
  },
  {
   "cell_type": "code",
   "execution_count": null,
   "outputs": [],
   "source": [
    "from scipy.io.harwell_boeing import hb_read, hb_write\n",
    "K_hb_path = os.path.join(resources_path, 'K.hb')\n",
    "M_hb_path = os.path.join(resources_path, 'M.hb')\n",
    "hb_write(M_hb_path, M_mat)\n",
    "hb_write(K_hb_path, K_mat)\n",
    "\n",
    "M_hb = hb_read(M_hb_path)\n",
    "K_hb = hb_read(K_hb_path)"
   ],
   "metadata": {
    "collapsed": false,
    "pycharm": {
     "name": "#%%\n"
    }
   }
  },
  {
   "cell_type": "code",
   "execution_count": null,
   "outputs": [],
   "source": [],
   "metadata": {
    "collapsed": false,
    "pycharm": {
     "name": "#%%\n"
    }
   }
  }
 ],
 "metadata": {
  "kernelspec": {
   "display_name": "Python 3",
   "language": "python",
   "name": "python3"
  },
  "language_info": {
   "codemirror_mode": {
    "name": "ipython",
    "version": 2
   },
   "file_extension": ".py",
   "mimetype": "text/x-python",
   "name": "python",
   "nbconvert_exporter": "python",
   "pygments_lexer": "ipython2",
   "version": "2.7.6"
  }
 },
 "nbformat": 4,
 "nbformat_minor": 0
}