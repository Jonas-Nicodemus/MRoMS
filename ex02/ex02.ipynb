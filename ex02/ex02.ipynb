{
 "cells": [
  {
   "cell_type": "code",
   "execution_count": 7,
   "metadata": {
    "collapsed": true
   },
   "outputs": [],
   "source": [
    "import re\n",
    "import os\n",
    "\n",
    "import numpy as np\n",
    "import matplotlib.pyplot as plt\n",
    "from scipy.sparse import csr_matrix, csc_matrix, eye\n"
   ]
  },
  {
   "cell_type": "markdown",
   "source": [
    "# Exercise 3: Sparse Matrices, Static and Transient Problem of Governor\n",
    "\n",
    "a) The mass and stiffness matrices were exported from Ansys in the Harwell-Boeing format for sparse matrices. Write a function to import the matrices located in the files M_L.txt and K_L.txt."
   ],
   "metadata": {
    "collapsed": false
   }
  },
  {
   "cell_type": "code",
   "execution_count": 2,
   "outputs": [],
   "source": [
    "def conv(value):\n",
    "    try:\n",
    "        return float(value)\n",
    "    except ValueError:\n",
    "        return float(re.sub(r\"D\", 'E', str(value, 'utf-8')))\n",
    "\n",
    "def read_hb(file_path):\n",
    "    with open(file_path) as file:\n",
    "        # First line\n",
    "        line = file.readline().strip(\"\\n\")\n",
    "        if not len(line) > 72:\n",
    "            raise ValueError(\"Expected at least 72 characters for first line, \"\n",
    "                             \"got: \\n%s\" % line)\n",
    "        title = line[:72]\n",
    "        key = line[72:]\n",
    "\n",
    "        # Second line\n",
    "        line = file.readline().strip(\"\\n\")\n",
    "        if not len(line.rstrip()) >= 56:\n",
    "            raise ValueError(\"Expected at least 56 characters for second line, \"\n",
    "                         \"got: \\n%s\" % line)\n",
    "        total_nlines = int(line[:14])\n",
    "        pointer_nlines = int(line[14:28])\n",
    "        indices_nlines = int(line[28:42])\n",
    "        values_nlines = int(line[42:56])\n",
    "\n",
    "        data = np.loadtxt(file_path, skiprows=5, converters={0: conv})\n",
    "\n",
    "        indptr = data[:pointer_nlines].astype(int) - 1\n",
    "        indices = data[pointer_nlines:pointer_nlines + indices_nlines].astype(int) - 1\n",
    "        values = data[pointer_nlines + indices_nlines:pointer_nlines + indices_nlines + values_nlines]\n",
    "    #TODO symmetrie\n",
    "    return csc_matrix((values, indices, indptr))"
   ],
   "metadata": {
    "collapsed": false,
    "pycharm": {
     "name": "#%%\n"
    }
   }
  },
  {
   "cell_type": "markdown",
   "source": [
    "Execute function ```read_hb```."
   ],
   "metadata": {
    "collapsed": false,
    "pycharm": {
     "name": "#%% md\n"
    }
   }
  },
  {
   "cell_type": "code",
   "execution_count": 3,
   "outputs": [],
   "source": [
    "resources_path = os.path.join('resources')\n",
    "K_L_path = os.path.join(resources_path, 'K_L.txt')\n",
    "M_L_path = os.path.join(resources_path, 'M_L.txt')\n",
    "\n",
    "K_txt = read_hb(K_L_path)\n",
    "M_txt = read_hb(M_L_path)"
   ],
   "metadata": {
    "collapsed": false,
    "pycharm": {
     "name": "#%%\n"
    }
   }
  },
  {
   "cell_type": "markdown",
   "source": [
    "Compare the results with the already imported matrices"
   ],
   "metadata": {
    "collapsed": false,
    "pycharm": {
     "name": "#%% md\n"
    }
   }
  },
  {
   "cell_type": "code",
   "execution_count": 4,
   "outputs": [],
   "source": [
    "from pymatreader import read_mat\n",
    "\n",
    "def read_hb_from_mat(file_path, name):\n",
    "    mat_dic = read_mat(file_path)[name]\n",
    "    indptr = mat_dic['jc']\n",
    "    indices = mat_dic['ir']\n",
    "    values = mat_dic['data']\n",
    "    return csc_matrix((values, indices, indptr))"
   ],
   "metadata": {
    "collapsed": false,
    "pycharm": {
     "name": "#%%\n"
    }
   }
  },
  {
   "cell_type": "code",
   "execution_count": 5,
   "outputs": [],
   "source": [
    "K_mat_path = os.path.join(resources_path, 'K.mat')\n",
    "M_mat_path = os.path.join(resources_path, 'M.mat')\n",
    "\n",
    "K_mat = read_hb_from_mat(K_mat_path, 'K')\n",
    "M_mat = read_hb_from_mat(M_mat_path, 'M')\n",
    "\n",
    "#TODO equality check"
   ],
   "metadata": {
    "collapsed": false,
    "pycharm": {
     "name": "#%%\n"
    }
   }
  },
  {
   "cell_type": "markdown",
   "source": [
    "Alternative use already implemented functions\n",
    "```\n",
    "scipy.io.hb_read\n",
    "scipy.io.hb_write\n",
    "```"
   ],
   "metadata": {
    "collapsed": false,
    "pycharm": {
     "name": "#%% md\n"
    }
   }
  },
  {
   "cell_type": "code",
   "execution_count": 6,
   "outputs": [],
   "source": [
    "from scipy.io.harwell_boeing import hb_read, hb_write\n",
    "K_hb_path = os.path.join(resources_path, 'K.hb')\n",
    "M_hb_path = os.path.join(resources_path, 'M.hb')\n",
    "hb_write(M_hb_path, M_mat)\n",
    "hb_write(K_hb_path, K_mat)\n",
    "\n",
    "M_hb = hb_read(M_hb_path)\n",
    "K_hb = hb_read(K_hb_path)"
   ],
   "metadata": {
    "collapsed": false,
    "pycharm": {
     "name": "#%%\n"
    }
   }
  },
  {
   "cell_type": "markdown",
   "source": [
    "(b) Plot the sparsity pattern of the matrices with the Matlab function spy.\n",
    "Using ```matplotlib.pylab.spy```."
   ],
   "metadata": {
    "collapsed": false,
    "pycharm": {
     "name": "#%% md\n"
    }
   }
  },
  {
   "cell_type": "code",
   "execution_count": 9,
   "outputs": [
    {
     "data": {
      "text/plain": "Text(0.5, 1.0, 'Sparsity of the Stiffness Matrix')"
     },
     "execution_count": 9,
     "metadata": {},
     "output_type": "execute_result"
    },
    {
     "data": {
      "text/plain": "<Figure size 432x288 with 2 Axes>",
      "image/png": "[encoded data removed]"
     },
     "metadata": {
      "needs_background": "light"
     },
     "output_type": "display_data"
    }
   ],
   "source": [
    "M = M_mat\n",
    "K = K_mat\n",
    "\n",
    "fig, axes = plt.subplots(1,2)\n",
    "ax = axes.ravel()\n",
    "ax[0].spy(M)\n",
    "ax[0].set_title(\"Sparsity of the Mass Matrix\")\n",
    "ax[1].spy(K)\n",
    "ax[1].set_title(\"Sparsity of the Stiffness Matrix\")"
   ],
   "metadata": {
    "collapsed": false,
    "pycharm": {
     "name": "#%%\n"
    }
   }
  },
  {
   "cell_type": "code",
   "execution_count": null,
   "outputs": [],
   "source": [],
   "metadata": {
    "collapsed": false,
    "pycharm": {
     "name": "#%%\n"
    }
   }
  }
 ],
 "metadata": {
  "kernelspec": {
   "display_name": "Python 3",
   "language": "python",
   "name": "python3"
  },
  "language_info": {
   "codemirror_mode": {
    "name": "ipython",
    "version": 2
   },
   "file_extension": ".py",
   "mimetype": "text/x-python",
   "name": "python",
   "nbconvert_exporter": "python",
   "pygments_lexer": "ipython2",
   "version": "2.7.6"
  }
 },
 "nbformat": 4,
 "nbformat_minor": 0
}